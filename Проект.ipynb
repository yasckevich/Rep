{
 "cells": [
  {
   "cell_type": "code",
   "execution_count": 55,
   "metadata": {},
   "outputs": [
    {
     "name": "stdout",
     "output_type": "stream",
     "text": [
      "Ваш алгоритм угадывает число в среднем за 7 попыток\n"
     ]
    },
    {
     "data": {
      "text/plain": [
       "7"
      ]
     },
     "execution_count": 55,
     "metadata": {},
     "output_type": "execute_result"
    }
   ],
   "source": [
    "import numpy as np\n",
    "\n",
    "def game_core_v2(number):\n",
    "    count = 1\n",
    "    predict = np.random.randint(1,101)\n",
    "    while number != predict:\n",
    "        if number > predict: \n",
    "            while number > predict:\n",
    "                predict +=20 \n",
    "                count+=1\n",
    "                if predict>100: \n",
    "                    predict=100 \n",
    "                    count+=1\n",
    "            if number > predict:  \n",
    "                while number < predict:\n",
    "                    predict -=5 \n",
    "                    count+=1\n",
    "                    if number < predict:\n",
    "                        while number != predict:\n",
    "                            predict -=1         \n",
    "                            count+=1\n",
    "                    elif number > predict:\n",
    "                            while number != predict:\n",
    "                                predict +=1\n",
    "                                count+=1\n",
    "            else:\n",
    "                while number < predict:\n",
    "                    predict -=5\n",
    "                    count+=1\n",
    "                if number < predict:\n",
    "                    while number != predict:\n",
    "                            predict -=1\n",
    "                            count+=1\n",
    "                elif number > predict:\n",
    "                    while number != predict:\n",
    "                        predict +=1\n",
    "                        count+=1\n",
    "                \n",
    "                \n",
    "        elif number < predict:\n",
    "            while number < predict:\n",
    "                predict -=20\n",
    "                count+=1            \n",
    "                if predict<0:\n",
    "                    predict=0\n",
    "                    count+=1\n",
    "                if number < predict:  \n",
    "                    while number > predict:\n",
    "                        predict +=5\n",
    "                        count+=1\n",
    "                        if number > predict:\n",
    "                            while number != predict:\n",
    "                                    predict +=1\n",
    "                                    count+=1\n",
    "                        elif number < predict:\n",
    "                            while number != predict:\n",
    "                                predict -=1\n",
    "                                count+=1\n",
    "            else:\n",
    "                while number > predict:\n",
    "                    predict +=5\n",
    "                    count+=1\n",
    "                if number > predict:\n",
    "                    while number != predict:\n",
    "                            predict +=1\n",
    "                            count+=1\n",
    "                elif number < predict:\n",
    "                    while number != predict:\n",
    "                        predict -=1\n",
    "                        count+=1\n",
    "                        \n",
    "    return(count) # выход из цикла, если угадали\n",
    "\n",
    "def score_game(game_core):\n",
    "    count_ls = []\n",
    "    np.random.seed(1)  # фиксируем RANDOM SEED, чтобы ваш эксперимент был воспроизводим!\n",
    "    random_array = np.random.randint(0,100, size=(1000))\n",
    "    for number in random_array:\n",
    "        count_ls.append(game_core(number))\n",
    "    score = int(np.mean(count_ls))\n",
    "    print(f\"Ваш алгоритм угадывает число в среднем за {score} попыток\")\n",
    "    return(score)\n",
    "\n",
    "# запускаем\n",
    "score_game(game_core_v2)"
   ]
  },
  {
   "cell_type": "code",
   "execution_count": null,
   "metadata": {},
   "outputs": [],
   "source": []
  }
 ],
 "metadata": {
  "kernelspec": {
   "display_name": "Python 3",
   "language": "python",
   "name": "python3"
  }
 },
 "nbformat": 4,
 "nbformat_minor": 4
}
